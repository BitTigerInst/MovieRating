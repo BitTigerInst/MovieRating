{
 "cells": [
  {
   "cell_type": "markdown",
   "metadata": {},
   "source": [
    "## 库导入"
   ]
  },
  {
   "cell_type": "code",
   "execution_count": 17,
   "metadata": {
    "collapsed": false
   },
   "outputs": [],
   "source": [
    "from IPython.core.display import display\n",
    "import numpy as np\n",
    "from pyspark.mllib.recommendation import ALS, MatrixFactorizationModel, Rating"
   ]
  },
  {
   "cell_type": "markdown",
   "metadata": {},
   "source": [
    "## 评级数据导入\n",
    "\n",
    "### train data(80%)"
   ]
  },
  {
   "cell_type": "code",
   "execution_count": 18,
   "metadata": {
    "collapsed": false
   },
   "outputs": [
    {
     "data": {
      "text/plain": [
       "Rating(user=1, product=1, rating=5.0)"
      ]
     },
     "execution_count": 18,
     "metadata": {},
     "output_type": "execute_result"
    }
   ],
   "source": [
    "# import train data \"user ,movie, rating, time \"\n",
    "rawData = sc.textFile(\"file:///Users/wente/GitHub/MovieRating/wente_file/ml-100k/u1.base\")\n",
    "# 用不到时间戳——弃掉\n",
    "rawRatings = rawData.map(lambda x: x.split(\"\\t\")).map(lambda x: x[:3])\n",
    "# 将数据转换为Rating对象\n",
    "ratings = rawRatings.map(lambda l: Rating(int(l[0]), int(l[1]), float(l[2])))\n",
    "ratings.first()"
   ]
  },
  {
   "cell_type": "code",
   "execution_count": 19,
   "metadata": {
    "collapsed": false
   },
   "outputs": [
    {
     "data": {
      "text/plain": [
       "943"
      ]
     },
     "metadata": {},
     "output_type": "display_data"
    },
    {
     "data": {
      "text/plain": [
       "1650"
      ]
     },
     "metadata": {},
     "output_type": "display_data"
    }
   ],
   "source": [
    "userNum  = rawRatings.map(lambda x: x[0]).distinct().count()\n",
    "predictNum = rawRatings.map(lambda x: x[1]).distinct().count()\n",
    "display (userNum, predictNum)"
   ]
  },
  {
   "cell_type": "markdown",
   "metadata": {},
   "source": [
    "### test data(20%)"
   ]
  },
  {
   "cell_type": "code",
   "execution_count": 20,
   "metadata": {
    "collapsed": false
   },
   "outputs": [
    {
     "data": {
      "text/plain": [
       "(1, 6, 5.0)"
      ]
     },
     "metadata": {},
     "output_type": "display_data"
    },
    {
     "data": {
      "text/plain": [
       "(1, 6)"
      ]
     },
     "execution_count": 20,
     "metadata": {},
     "output_type": "execute_result"
    }
   ],
   "source": [
    "# import train data \"user ,movie, rating, time \"\n",
    "rawTest = sc.textFile(\"file:///Users/wente/GitHub/MovieRating/wente_file/ml-100k/u1.test\")\n",
    "# 用不到时间戳——弃掉--->格式转换\n",
    "testData = rawTest.map(lambda x: x.split(\"\\t\")).map(lambda x: x[:3]).map(lambda l: (int(l[0]), int(l[1]), float(l[2])))\n",
    "display(testData.first())\n",
    "# 将数据转换为\n",
    "predictData = testData.map(lambda x: x[:2])\n",
    "predictData.first()"
   ]
  },
  {
   "cell_type": "markdown",
   "metadata": {},
   "source": [
    "## 训练模型\n",
    "### 参数的设置：\n",
    "\n",
    "rank 因子个数，一般越多越好，不过内存开销也越大，合理值是 10-200。\n",
    "\n",
    "iterations 迭代次数 对 ALS 10次就可以了。\n",
    "\n",
    "lambda 正则化过程————>也就是过拟合情况，应该统计非样的测试数据 进行交叉验证调整。"
   ]
  },
  {
   "cell_type": "code",
   "execution_count": 21,
   "metadata": {
    "collapsed": false
   },
   "outputs": [
    {
     "data": {
      "text/plain": [
       "<pyspark.mllib.recommendation.MatrixFactorizationModel at 0x111eb76d8>"
      ]
     },
     "execution_count": 21,
     "metadata": {},
     "output_type": "execute_result"
    }
   ],
   "source": [
    "## 训练\n",
    "rank = 50\n",
    "iterations = 10\n",
    "theLambda  = 0.01\n",
    "model = ALS.train(ratings, rank, iterations, theLambda)\n",
    "model"
   ]
  },
  {
   "cell_type": "code",
   "execution_count": 22,
   "metadata": {
    "collapsed": false
   },
   "outputs": [
    {
     "data": {
      "text/plain": [
       "2.7660992202595964"
      ]
     },
     "execution_count": 22,
     "metadata": {},
     "output_type": "execute_result"
    }
   ],
   "source": [
    "## predict user789 对 movie123的rating预测\n",
    "predict = model.predict(789,123)\n",
    "predict"
   ]
  },
  {
   "cell_type": "code",
   "execution_count": 23,
   "metadata": {
    "collapsed": false
   },
   "outputs": [
    {
     "data": {
      "text/plain": [
       "PythonRDD[503] at RDD at PythonRDD.scala:43"
      ]
     },
     "metadata": {},
     "output_type": "display_data"
    },
    {
     "data": {
      "text/plain": [
       "943"
      ]
     },
     "metadata": {},
     "output_type": "display_data"
    },
    {
     "data": {
      "text/plain": [
       "1650"
      ]
     },
     "metadata": {},
     "output_type": "display_data"
    }
   ],
   "source": [
    "# test\n",
    "display (model.userFeatures())\n",
    "display (model.userFeatures().count())# 6040\n",
    "display (model.productFeatures().count()) # 3706"
   ]
  },
  {
   "cell_type": "markdown",
   "metadata": {},
   "source": [
    "## 对测试数据集进行预测"
   ]
  },
  {
   "cell_type": "code",
   "execution_count": 24,
   "metadata": {
    "collapsed": false
   },
   "outputs": [
    {
     "data": {
      "text/plain": [
       "((316, 1084), 2.4544591958770345)"
      ]
     },
     "execution_count": 24,
     "metadata": {},
     "output_type": "execute_result"
    }
   ],
   "source": [
    "# predictions \n",
    "predictions = model.predictAll(predictData).map(lambda x: ((x[0],x[1]),x[2]))\n",
    "predictions.first()"
   ]
  },
  {
   "cell_type": "markdown",
   "metadata": {},
   "source": [
    "## 模型评估\n",
    "- 均方误差(Mean Squared Error,MSE) \n",
    "常用于显示评级的情形\n",
    "- Root Mean Squared Error,RMSE\n",
    "- K值平均准确率 MAPK "
   ]
  },
  {
   "cell_type": "markdown",
   "metadata": {},
   "source": [
    "### 均方误差"
   ]
  },
  {
   "cell_type": "code",
   "execution_count": 25,
   "metadata": {
    "collapsed": false
   },
   "outputs": [
    {
     "data": {
      "text/plain": [
       "((213, 121), (5.0, 3.6714270837582674))"
      ]
     },
     "metadata": {},
     "output_type": "display_data"
    }
   ],
   "source": [
    "# 数据整理\n",
    "result = testData.map(lambda x: ((x[0],x[1]),x[2])).join(predictions)\n",
    "display (result.first())\n"
   ]
  },
  {
   "cell_type": "code",
   "execution_count": 26,
   "metadata": {
    "collapsed": false,
    "scrolled": true
   },
   "outputs": [
    {
     "name": "stdout",
     "output_type": "stream",
     "text": [
      "mse = 1.481\n",
      "rmse = 1.217\n"
     ]
    }
   ],
   "source": [
    "## MSE & RMSE\n",
    "mse = result.map(lambda v: (v[1][0] - v[1][1]) ** 2).mean()\n",
    "rmse = np.sqrt(mse)\n",
    "print(\"mse = {:.3f}\".format(mse))\n",
    "print(\"rmse = {:.3f}\".format(rmse))"
   ]
  },
  {
   "cell_type": "markdown",
   "metadata": {},
   "source": [
    "### K值平均准确率（单个用户）"
   ]
  },
  {
   "cell_type": "code",
   "execution_count": 52,
   "metadata": {
    "collapsed": true
   },
   "outputs": [],
   "source": [
    "# MAP的Python脚本如下：\n",
    "def avgPrecisionK(actual, predicted, k): \n",
    "    if len(predicted) > k:\n",
    "        predK = predicted[:k]\n",
    "    else:\n",
    "        predK = predicted\n",
    "    score = 0.0\n",
    "    numHits = 0.0\n",
    "    for i,p in enumerate(predK):\n",
    "        if p in actual and p not in predK:\n",
    "            numHits = numHits + 1\n",
    "            score = score + numHits/(i+1)\n",
    "    if not actual:\n",
    "        return 1.0\n",
    "    else:\n",
    "        return score/min(len(actual),k)"
   ]
  },
  {
   "cell_type": "code",
   "execution_count": 50,
   "metadata": {
    "collapsed": false
   },
   "outputs": [
    {
     "data": {
      "text/plain": [
       "[(659, 6.396913771184828)]"
      ]
     },
     "metadata": {},
     "output_type": "display_data"
    },
    {
     "data": {
      "text/plain": [
       "[(14, 5.0)]"
      ]
     },
     "metadata": {},
     "output_type": "display_data"
    }
   ],
   "source": [
    "# 下面计算模型对用户789推荐的MAP。首先提取出用户实际评级过的电影的ID和预测电影ID:\n",
    "# 数据整理\n",
    "userId = 6\n",
    "K = 10\n",
    "actualMovies =[elem[1:] for elem in model.recommendProducts(userId, K)]\n",
    "predictMovies = [elem[1:] for elem in testData.keyBy(lambda x: x[0]).lookup(userId)]\n",
    "display (actualMovies[:1])\n",
    "display(predictMovies[:1])"
   ]
  },
  {
   "cell_type": "code",
   "execution_count": 53,
   "metadata": {
    "collapsed": false
   },
   "outputs": [
    {
     "data": {
      "text/plain": [
       "0.0"
      ]
     },
     "metadata": {},
     "output_type": "display_data"
    }
   ],
   "source": [
    "MAP10 = avgPrecisionK(actualMovies,predictMovies,10)\n",
    "display (MAP10)"
   ]
  },
  {
   "cell_type": "markdown",
   "metadata": {},
   "source": [
    "这里,APK的得分为0,这表明该模型在为该用户做相关电影预测上的表现并不理想。,推荐类任务的这个得分通常都较低,特别是当物品的数量极大时。"
   ]
  },
  {
   "cell_type": "markdown",
   "metadata": {},
   "source": [
    "## 参数调整"
   ]
  },
  {
   "cell_type": "code",
   "execution_count": null,
   "metadata": {
    "collapsed": true
   },
   "outputs": [],
   "source": []
  },
  {
   "cell_type": "markdown",
   "metadata": {},
   "source": [
    "## 用户推荐——为某个用户生产评分最高的前K个电影"
   ]
  },
  {
   "cell_type": "code",
   "execution_count": 27,
   "metadata": {
    "collapsed": false
   },
   "outputs": [
    {
     "data": {
      "text/plain": [
       "[Rating(user=6, product=659, rating=6.396913771184828),\n",
       " Rating(user=6, product=515, rating=5.946965727342597),\n",
       " Rating(user=6, product=1142, rating=5.625788705127286),\n",
       " Rating(user=6, product=205, rating=5.472596687607102),\n",
       " Rating(user=6, product=190, rating=5.365075266920087),\n",
       " Rating(user=6, product=357, rating=5.339812961327616),\n",
       " Rating(user=6, product=208, rating=5.324037223548699),\n",
       " Rating(user=6, product=603, rating=5.220581687133934),\n",
       " Rating(user=6, product=498, rating=5.14110769806142),\n",
       " Rating(user=6, product=646, rating=5.1084513138580805)]"
      ]
     },
     "execution_count": 27,
     "metadata": {},
     "output_type": "execute_result"
    }
   ],
   "source": [
    "# 为某个用户生产前K个推荐物品（评分最高的）\n",
    "userId = 6\n",
    "K = 10\n",
    "topKRecs = model.recommendProducts(userId, K)\n",
    "topKRecs"
   ]
  },
  {
   "cell_type": "code",
   "execution_count": 28,
   "metadata": {
    "collapsed": false
   },
   "outputs": [
    {
     "data": {
      "text/plain": [
       "101"
      ]
     },
     "execution_count": 28,
     "metadata": {},
     "output_type": "execute_result"
    }
   ],
   "source": [
    "# 查找真实数据中user798对电影的评分\n",
    "# 为了和上面的预测对比\n",
    "moviesForUser = testData.keyBy(lambda x: x[0]).lookup(userId)\n",
    "len(moviesForUser)"
   ]
  },
  {
   "cell_type": "code",
   "execution_count": 29,
   "metadata": {
    "collapsed": false,
    "scrolled": true
   },
   "outputs": [
    {
     "data": {
      "text/plain": [
       "[(6, 14, 5.0),\n",
       " (6, 59, 5.0),\n",
       " (6, 98, 5.0),\n",
       " (6, 100, 5.0),\n",
       " (6, 124, 5.0),\n",
       " (6, 131, 5.0),\n",
       " (6, 134, 5.0),\n",
       " (6, 135, 5.0),\n",
       " (6, 136, 5.0),\n",
       " (6, 197, 5.0)]"
      ]
     },
     "metadata": {},
     "output_type": "display_data"
    },
    {
     "data": {
      "text/plain": [
       "'——————下面是预测数据——————'"
      ]
     },
     "metadata": {},
     "output_type": "display_data"
    },
    {
     "data": {
      "text/plain": [
       "[Rating(user=6, product=659, rating=6.396913771184828),\n",
       " Rating(user=6, product=515, rating=5.946965727342597),\n",
       " Rating(user=6, product=1142, rating=5.625788705127286),\n",
       " Rating(user=6, product=205, rating=5.472596687607102),\n",
       " Rating(user=6, product=190, rating=5.365075266920087),\n",
       " Rating(user=6, product=357, rating=5.339812961327616),\n",
       " Rating(user=6, product=208, rating=5.324037223548699),\n",
       " Rating(user=6, product=603, rating=5.220581687133934),\n",
       " Rating(user=6, product=498, rating=5.14110769806142),\n",
       " Rating(user=6, product=646, rating=5.1084513138580805)]"
      ]
     },
     "metadata": {},
     "output_type": "display_data"
    }
   ],
   "source": [
    "# 对比上面的预测值topKRecs ——差别有点大啊\n",
    "# 真实的评分最高的前K个物品（电影）\n",
    "display (sorted(moviesForUser, key=lambda x:x[2], reverse=True)[:K])\n",
    "display  (\"——————下面是预测数据——————\")\n",
    "display  (topKRecs)"
   ]
  },
  {
   "cell_type": "markdown",
   "metadata": {},
   "source": [
    "## 物品推荐——计算与某个物品相似度最高的K个物品"
   ]
  },
  {
   "cell_type": "code",
   "execution_count": 30,
   "metadata": {
    "collapsed": true
   },
   "outputs": [],
   "source": [
    "# func余弦相似度计算\n",
    "\n",
    "def cosineSimilarity (vec1, vec2):\n",
    "    import numpy as np\n",
    "    from numpy import linalg as la\n",
    "    \n",
    "    inA = np.mat(vec1) \n",
    "    inB = np.mat(vec2)\n",
    "    num = float(inA * inB.T) #若为行向量: A * B.T\n",
    "    donom = la.norm(inA) * la.norm(inB) ##余弦值 \n",
    "    return 0.5+ 0.5*(num / donom) # 归一化\n",
    "    #关于归一化：因为余弦值的范围是 [-1,+1] ，相似度计算时一般需要把值归一化到 [0,1]\n"
   ]
  },
  {
   "cell_type": "code",
   "execution_count": 34,
   "metadata": {
    "collapsed": false
   },
   "outputs": [
    {
     "data": {
      "text/plain": [
       "1.0"
      ]
     },
     "metadata": {},
     "output_type": "display_data"
    }
   ],
   "source": [
    "# 测试一下，结果应该为1    \n",
    "testx = np.array([1.0,2.0,3.0])\n",
    "display(cosineSimilarity(testx,testx))"
   ]
  },
  {
   "cell_type": "code",
   "execution_count": 31,
   "metadata": {
    "collapsed": false
   },
   "outputs": [
    {
     "data": {
      "text/plain": [
       "matrix([[ 0.18132576, -0.367594  , -2.02750278,  0.14757667,  0.01309552,\n",
       "          0.3418301 ,  0.02846426, -0.97273409, -0.23761597,  0.05263272,\n",
       "         -0.58303279, -0.20545818, -0.46925241, -1.1589216 ,  0.44593593,\n",
       "          0.44556555, -0.18251772, -0.37772518,  0.62050122,  0.05390786,\n",
       "          0.03757767, -0.1753062 , -0.4385958 , -0.7255674 ,  0.93506473,\n",
       "         -0.24861954,  0.77538127, -0.45520648, -1.26482451, -1.43371737,\n",
       "          0.16625632,  0.14440562, -0.99962944, -0.5653494 ,  1.64225149,\n",
       "          0.21734481, -1.13297093, -0.61752391,  0.33847439, -0.75160211,\n",
       "         -1.12853777,  0.85624087, -0.56932443,  2.26373148, -0.59060234,\n",
       "          0.31641617, -0.04694546,  0.64048362,  1.45574427, -1.46515882]])"
      ]
     },
     "metadata": {},
     "output_type": "display_data"
    },
    {
     "data": {
      "text/plain": [
       "1.0"
      ]
     },
     "execution_count": 31,
     "metadata": {},
     "output_type": "execute_result"
    }
   ],
   "source": [
    "# 物品100对应的因子\n",
    "itemId = 100\n",
    "itemFactor = model.productFeatures().lookup(itemId)\n",
    "itemFactor = np.mat(itemFactor)\n",
    "display(itemFactor)\n",
    "#test物品567对应的因子和自己的余弦相似度计算 ——应该为1\n",
    "cosineSimilarity(itemFactor,itemFactor)"
   ]
  },
  {
   "cell_type": "code",
   "execution_count": 35,
   "metadata": {
    "collapsed": false
   },
   "outputs": [
    {
     "data": {
      "text/plain": [
       "[(100, 1.0),\n",
       " (297, 0.944038793895003),\n",
       " (134, 0.9405541803974149),\n",
       " (483, 0.93822144282935938),\n",
       " (484, 0.93775358381210028),\n",
       " (603, 0.93757508867269945),\n",
       " (30, 0.93500356535489326),\n",
       " (657, 0.93466656135533255),\n",
       " (223, 0.9343424937357363),\n",
       " (479, 0.93382210706393409)]"
      ]
     },
     "execution_count": 35,
     "metadata": {},
     "output_type": "execute_result"
    }
   ],
   "source": [
    "# 计算100 与其他的物品的余弦相似度\n",
    "sims = model.productFeatures().map(lambda x: (x[0],cosineSimilarity(x[1], itemFactor))).collect()\n",
    "simsSorted = sorted(sims, key=lambda x:x[1], reverse=True)\n",
    "simsSorted[:10]"
   ]
  },
  {
   "cell_type": "code",
   "execution_count": null,
   "metadata": {
    "collapsed": true
   },
   "outputs": [],
   "source": []
  }
 ],
 "metadata": {
  "kernelspec": {
   "display_name": "Python 3",
   "language": "python",
   "name": "python3"
  },
  "language_info": {
   "codemirror_mode": {
    "name": "ipython",
    "version": 3
   },
   "file_extension": ".py",
   "mimetype": "text/x-python",
   "name": "python",
   "nbconvert_exporter": "python",
   "pygments_lexer": "ipython3",
   "version": "3.5.1"
  }
 },
 "nbformat": 4,
 "nbformat_minor": 0
}
