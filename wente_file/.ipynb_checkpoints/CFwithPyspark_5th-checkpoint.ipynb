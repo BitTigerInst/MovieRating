{
 "cells": [
  {
   "cell_type": "markdown",
   "metadata": {},
   "source": [
    "## 库导入"
   ]
  },
  {
   "cell_type": "code",
   "execution_count": 1,
   "metadata": {
    "collapsed": false
   },
   "outputs": [],
   "source": [
    "from IPython.core.display import display\n",
    "import numpy as np\n",
    "from pyspark.mllib.recommendation import ALS, MatrixFactorizationModel, Rating"
   ]
  },
  {
   "cell_type": "markdown",
   "metadata": {},
   "source": [
    "## 评级数据导入\n"
   ]
  },
  {
   "cell_type": "code",
   "execution_count": 2,
   "metadata": {
    "collapsed": false
   },
   "outputs": [
    {
     "name": "stdout",
     "output_type": "stream",
     "text": [
      "Rating(user=196, product=242, rating=3.0)\n",
      "(196, 242)\n",
      "943 1682\n"
     ]
    }
   ],
   "source": [
    "# import train data \"user ,movie, rating, time \"\n",
    "rawData = sc.textFile(\"file:///Users/wente/GitHub/MovieRating/wente_file/ml-100k/u.data\")\n",
    "# 用不到时间戳——弃掉\n",
    "rawRatings = rawData.map(lambda x: x.split(\"\\t\")).map(lambda x: x[:3]).map(lambda l: (int(l[0]), int(l[1]), float(l[2])))\n",
    "# 将数据转换为Rating对象\n",
    "ratings = rawRatings.map(lambda l: Rating(l[0], l[1], l[2]))\n",
    "print (ratings.first())\n",
    "\n",
    "predictData = rawRatings.map(lambda x: x[:2])\n",
    "print (predictData.first())\n",
    "# test\n",
    "userNum  = rawRatings.map(lambda x: x[0]).distinct().count()\n",
    "predictNum = rawRatings.map(lambda x: x[1]).distinct().count()\n",
    "print (userNum, predictNum)"
   ]
  },
  {
   "cell_type": "markdown",
   "metadata": {},
   "source": [
    "## 建模\n",
    "### 参数的设置：\n",
    "\n",
    "rank 因子个数，一般越多越好，不过内存开销也越大，合理值是 10-200。\n",
    "\n",
    "iterations 迭代次数 对 ALS 10次就可以了。\n",
    "\n",
    "lambda 正则化过程————>也就是过拟合情况，应该统计非样的测试数据 进行交叉验证调整。"
   ]
  },
  {
   "cell_type": "code",
   "execution_count": 37,
   "metadata": {
    "collapsed": false
   },
   "outputs": [
    {
     "data": {
      "text/plain": [
       "<pyspark.mllib.recommendation.MatrixFactorizationModel at 0x112130d30>"
      ]
     },
     "execution_count": 37,
     "metadata": {},
     "output_type": "execute_result"
    }
   ],
   "source": [
    "## 训练\n",
    "rank = 50\n",
    "iterations = 10\n",
    "theLambda  = 0.01\n",
    "model = ALS.train(ratings, rank, iterations, theLambda)\n",
    "print (model)\n"
   ]
  },
  {
   "cell_type": "code",
   "execution_count": 39,
   "metadata": {
    "collapsed": false
   },
   "outputs": [
    {
     "data": {
      "text/plain": [
       "PythonRDD[851] at RDD at PythonRDD.scala:43"
      ]
     },
     "metadata": {},
     "output_type": "display_data"
    },
    {
     "data": {
      "text/plain": [
       "943"
      ]
     },
     "metadata": {},
     "output_type": "display_data"
    },
    {
     "data": {
      "text/plain": [
       "1682"
      ]
     },
     "metadata": {},
     "output_type": "display_data"
    }
   ],
   "source": [
    "#test\n",
    "## predict user789 对 movie123的rating预测\n",
    "predict = model.predict(789,123)\n",
    "print (predict)\n",
    "# test\n",
    "print (model.userFeatures())\n",
    "print (model.userFeatures().count())# 6040\n",
    "print (model.productFeatures().count()) # 3706"
   ]
  },
  {
   "cell_type": "markdown",
   "metadata": {},
   "source": [
    "## 模型评估\n",
    "- 均方误差(Mean Squared Error,MSE) \n",
    "常用于显示评级的情形\n",
    "- Root Mean Squared Error,RMSE\n",
    "- K值平均准确率 MAPK "
   ]
  },
  {
   "cell_type": "markdown",
   "metadata": {},
   "source": [
    "### 均方误差"
   ]
  },
  {
   "cell_type": "code",
   "execution_count": 42,
   "metadata": {
    "collapsed": false
   },
   "outputs": [
    {
     "data": {
      "text/plain": [
       "((711, 707), (5.0, 5.199120610460281))"
      ]
     },
     "metadata": {},
     "output_type": "display_data"
    }
   ],
   "source": [
    "# 对测试数据集进行预测\n",
    "# predictions \n",
    "predictions = model.predictAll(predictData).map(lambda x: ((x[0],x[1]),x[2]))\n",
    "predictions.first()\n",
    "\n",
    "# 原始数据整理\n",
    "# \n",
    "result = rawRatings.map(lambda x: ((x[0],x[1]),x[2])).join(predictions)\n",
    "display (result.first())\n",
    "\n",
    "## MSE & RMSE\n",
    "mse = result.map(lambda v: (v[1][0] - v[1][1]) ** 2).mean()\n",
    "rmse = np.sqrt(mse)\n",
    "print(\"mse = {:.3f}\".format(mse))\n",
    "print(\"rmse = {:.3f}\".format(rmse))"
   ]
  },
  {
   "cell_type": "code",
   "execution_count": 43,
   "metadata": {
    "collapsed": false,
    "scrolled": true
   },
   "outputs": [
    {
     "name": "stdout",
     "output_type": "stream",
     "text": [
      "mse = 0.084\n",
      "rmse = 0.290\n"
     ]
    }
   ],
   "source": []
  },
  {
   "cell_type": "markdown",
   "metadata": {},
   "source": [
    "### K值平均准确率（单个用户）"
   ]
  },
  {
   "cell_type": "code",
   "execution_count": 44,
   "metadata": {
    "collapsed": true
   },
   "outputs": [],
   "source": [
    "# MAP的Python脚本如下：\n",
    "def avgPrecisionK(actual, predicted, k): \n",
    "    if len(predicted) > k:\n",
    "        predK = predicted[:k]\n",
    "    else:\n",
    "        predK = predicted\n",
    "    score = 0.0\n",
    "    numHits = 0.0\n",
    "    for i,p in enumerate(predK):\n",
    "        if p in actual and p not in predK:\n",
    "            numHits = numHits + 1\n",
    "            score = score + numHits/(i+1)\n",
    "    if not actual:\n",
    "        return 1.0\n",
    "    else:\n",
    "        return score/min(len(actual),k)"
   ]
  },
  {
   "cell_type": "code",
   "execution_count": 45,
   "metadata": {
    "collapsed": false
   },
   "outputs": [
    {
     "data": {
      "text/plain": [
       "[(466, 6.180083966572809)]"
      ]
     },
     "metadata": {},
     "output_type": "display_data"
    },
    {
     "data": {
      "text/plain": [
       "[(32, 4.0)]"
      ]
     },
     "metadata": {},
     "output_type": "display_data"
    }
   ],
   "source": [
    "# 下面计算模型对用户789推荐的MAP。首先提取出用户实际评级过的电影的ID和预测电影ID:\n",
    "# 数据整理\n",
    "userId = 7\n",
    "K = 10\n",
    "actualMovies =[elem[1:] for elem in model.recommendProducts(userId, K)]\n",
    "predictMovies = [elem[1:] for elem in rawRatings.keyBy(lambda x: x[0]).lookup(userId)]\n",
    "display (actualMovies[:1])\n",
    "display (predictMovies[:1])"
   ]
  },
  {
   "cell_type": "code",
   "execution_count": 46,
   "metadata": {
    "collapsed": false
   },
   "outputs": [
    {
     "data": {
      "text/plain": [
       "0.0"
      ]
     },
     "metadata": {},
     "output_type": "display_data"
    }
   ],
   "source": [
    "MAP10 = avgPrecisionK(actualMovies,predictMovies,10)\n",
    "display (MAP10)"
   ]
  },
  {
   "cell_type": "markdown",
   "metadata": {},
   "source": [
    "这里,APK的得分为0,这表明该模型在为该用户做相关电影预测上的表现并不理想。,推荐类任务的这个得分通常都较低,特别是当物品的数量极大时。"
   ]
  },
  {
   "cell_type": "markdown",
   "metadata": {},
   "source": [
    "## 参数调整"
   ]
  },
  {
   "cell_type": "code",
   "execution_count": null,
   "metadata": {
    "collapsed": true
   },
   "outputs": [],
   "source": []
  },
  {
   "cell_type": "markdown",
   "metadata": {},
   "source": [
    "## 用户推荐——为某个用户生产评分最高的前K个电影"
   ]
  },
  {
   "cell_type": "code",
   "execution_count": 47,
   "metadata": {
    "collapsed": false
   },
   "outputs": [
    {
     "data": {
      "text/plain": [
       "[Rating(user=6, product=190, rating=5.5493446692464685),\n",
       " Rating(user=6, product=603, rating=5.517621034424161),\n",
       " Rating(user=6, product=173, rating=5.422938849019065),\n",
       " Rating(user=6, product=657, rating=5.405587489069024),\n",
       " Rating(user=6, product=661, rating=5.273043507159072),\n",
       " Rating(user=6, product=514, rating=5.230886754323885),\n",
       " Rating(user=6, product=490, rating=5.21597693859621),\n",
       " Rating(user=6, product=652, rating=5.137018279668898),\n",
       " Rating(user=6, product=474, rating=5.089366284138842),\n",
       " Rating(user=6, product=493, rating=5.086634777428775)]"
      ]
     },
     "execution_count": 47,
     "metadata": {},
     "output_type": "execute_result"
    }
   ],
   "source": [
    "# 为某个用户生产前K个推荐物品（评分最高的）\n",
    "userId = 6\n",
    "K = 10\n",
    "topKRecs = model.recommendProducts(userId, K)\n",
    "topKRecs"
   ]
  },
  {
   "cell_type": "code",
   "execution_count": 49,
   "metadata": {
    "collapsed": false
   },
   "outputs": [
    {
     "data": {
      "text/plain": [
       "211"
      ]
     },
     "execution_count": 49,
     "metadata": {},
     "output_type": "execute_result"
    }
   ],
   "source": [
    "# 查找真实数据中user798对电影的评分\n",
    "# 为了和上面的预测对比\n",
    "moviesForUser = rawRatings.keyBy(lambda x: x[0]).lookup(userId)\n",
    "len(moviesForUser)"
   ]
  },
  {
   "cell_type": "code",
   "execution_count": 50,
   "metadata": {
    "collapsed": false,
    "scrolled": true
   },
   "outputs": [
    {
     "data": {
      "text/plain": [
       "[(6, 14, 5.0),\n",
       " (6, 98, 5.0),\n",
       " (6, 492, 5.0),\n",
       " (6, 469, 5.0),\n",
       " (6, 211, 5.0),\n",
       " (6, 475, 5.0),\n",
       " (6, 134, 5.0),\n",
       " (6, 525, 5.0),\n",
       " (6, 523, 5.0),\n",
       " (6, 481, 5.0)]"
      ]
     },
     "metadata": {},
     "output_type": "display_data"
    },
    {
     "data": {
      "text/plain": [
       "'——————下面是预测数据——————'"
      ]
     },
     "metadata": {},
     "output_type": "display_data"
    },
    {
     "data": {
      "text/plain": [
       "[Rating(user=6, product=190, rating=5.5493446692464685),\n",
       " Rating(user=6, product=603, rating=5.517621034424161),\n",
       " Rating(user=6, product=173, rating=5.422938849019065),\n",
       " Rating(user=6, product=657, rating=5.405587489069024),\n",
       " Rating(user=6, product=661, rating=5.273043507159072),\n",
       " Rating(user=6, product=514, rating=5.230886754323885),\n",
       " Rating(user=6, product=490, rating=5.21597693859621),\n",
       " Rating(user=6, product=652, rating=5.137018279668898),\n",
       " Rating(user=6, product=474, rating=5.089366284138842),\n",
       " Rating(user=6, product=493, rating=5.086634777428775)]"
      ]
     },
     "metadata": {},
     "output_type": "display_data"
    }
   ],
   "source": [
    "# 对比上面的预测值topKRecs ——差别有点大啊\n",
    "# 真实的评分最高的前K个物品（电影）\n",
    "display (sorted(moviesForUser, key=lambda x:x[2], reverse=True)[:K])\n",
    "display  (\"——————下面是预测数据——————\")\n",
    "display  (topKRecs)"
   ]
  },
  {
   "cell_type": "markdown",
   "metadata": {},
   "source": [
    "## 物品推荐——计算与某个物品相似度最高的K个物品"
   ]
  },
  {
   "cell_type": "code",
   "execution_count": 51,
   "metadata": {
    "collapsed": true
   },
   "outputs": [],
   "source": [
    "# func余弦相似度计算\n",
    "\n",
    "def cosineSimilarity (vec1, vec2):\n",
    "    import numpy as np\n",
    "    from numpy import linalg as la\n",
    "    \n",
    "    inA = np.mat(vec1) \n",
    "    inB = np.mat(vec2)\n",
    "    num = float(inA * inB.T) #若为行向量: A * B.T\n",
    "    donom = la.norm(inA) * la.norm(inB) ##余弦值 \n",
    "    return 0.5+ 0.5*(num / donom) # 归一化\n",
    "    #关于归一化：因为余弦值的范围是 [-1,+1] ，相似度计算时一般需要把值归一化到 [0,1]\n"
   ]
  },
  {
   "cell_type": "code",
   "execution_count": 52,
   "metadata": {
    "collapsed": false
   },
   "outputs": [
    {
     "data": {
      "text/plain": [
       "1.0"
      ]
     },
     "metadata": {},
     "output_type": "display_data"
    }
   ],
   "source": [
    "# 测试一下，结果应该为1    \n",
    "testx = np.array([1.0,2.0,3.0])\n",
    "display(cosineSimilarity(testx,testx))"
   ]
  },
  {
   "cell_type": "code",
   "execution_count": 54,
   "metadata": {
    "collapsed": false
   },
   "outputs": [
    {
     "data": {
      "text/plain": [
       "[(100, 1.0),\n",
       " (124, 0.93856940066241967),\n",
       " (654, 0.93809784134109064),\n",
       " (191, 0.93773602951034141),\n",
       " (484, 0.93494876203278809),\n",
       " (508, 0.93493009430963958),\n",
       " (185, 0.93386061802668741),\n",
       " (223, 0.93230556310196522),\n",
       " (963, 0.93220063939183218),\n",
       " (127, 0.93116954605370839)]"
      ]
     },
     "execution_count": 54,
     "metadata": {},
     "output_type": "execute_result"
    }
   ],
   "source": [
    "# 计算100 与其他的物品的余弦相似度\n",
    "sims = model.productFeatures().map(lambda x: (x[0],cosineSimilarity(x[1], itemFactor))).collect()\n",
    "simsSorted = sorted(sims, key=lambda x:x[1], reverse=True)\n",
    "simsSorted[:10]"
   ]
  },
  {
   "cell_type": "code",
   "execution_count": null,
   "metadata": {
    "collapsed": true
   },
   "outputs": [],
   "source": []
  }
 ],
 "metadata": {
  "kernelspec": {
   "display_name": "Python 3",
   "language": "python",
   "name": "python3"
  },
  "language_info": {
   "codemirror_mode": {
    "name": "ipython",
    "version": 3
   },
   "file_extension": ".py",
   "mimetype": "text/x-python",
   "name": "python",
   "nbconvert_exporter": "python",
   "pygments_lexer": "ipython3",
   "version": "3.5.1"
  }
 },
 "nbformat": 4,
 "nbformat_minor": 0
}
