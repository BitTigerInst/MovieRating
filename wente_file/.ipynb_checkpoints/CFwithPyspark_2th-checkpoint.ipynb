{
 "cells": [
  {
   "cell_type": "markdown",
   "metadata": {},
   "source": [
    "## 库导入"
   ]
  },
  {
   "cell_type": "code",
   "execution_count": 1,
   "metadata": {
    "collapsed": false
   },
   "outputs": [],
   "source": [
    "from IPython.core.display import display\n",
    "import numpy as np\n",
    "from pyspark.mllib.recommendation import ALS, MatrixFactorizationModel, Rating"
   ]
  },
  {
   "cell_type": "markdown",
   "metadata": {},
   "source": [
    "## 评级数据导入\n",
    "\n",
    "### train data(80%)"
   ]
  },
  {
   "cell_type": "code",
   "execution_count": 5,
   "metadata": {
    "collapsed": false
   },
   "outputs": [
    {
     "data": {
      "text/plain": [
       "Rating(user=1, product=1, rating=5.0)"
      ]
     },
     "execution_count": 5,
     "metadata": {},
     "output_type": "execute_result"
    }
   ],
   "source": [
    "# import train data \"user ,movie, rating, time \"\n",
    "rawData = sc.textFile(\"file:///Users/wente/GitHub/MovieRating/wente_file/ml-100k/u1.base\")\n",
    "# 用不到时间戳——弃掉\n",
    "rawRatings = rawData.map(lambda x: x.split(\"\\t\")).map(lambda x: x[:3])\n",
    "# 将数据转换为Rating对象\n",
    "ratings = rawRatings.map(lambda l: Rating(int(l[0]), int(l[1]), float(l[2])))\n",
    "ratings.first()"
   ]
  },
  {
   "cell_type": "code",
   "execution_count": 16,
   "metadata": {
    "collapsed": false
   },
   "outputs": [
    {
     "data": {
      "text/plain": [
       "943"
      ]
     },
     "metadata": {},
     "output_type": "display_data"
    },
    {
     "data": {
      "text/plain": [
       "1650"
      ]
     },
     "metadata": {},
     "output_type": "display_data"
    }
   ],
   "source": [
    "userNum  = rawRatings.map(lambda x: x[0]).distinct().count()\n",
    "predictNum = rawRatings.map(lambda x: x[1]).distinct().count()\n",
    "display (userNum, predictNum)"
   ]
  },
  {
   "cell_type": "markdown",
   "metadata": {},
   "source": [
    "### test data(20%)"
   ]
  },
  {
   "cell_type": "code",
   "execution_count": 26,
   "metadata": {
    "collapsed": false
   },
   "outputs": [
    {
     "data": {
      "text/plain": [
       "(1, 6, 5.0)"
      ]
     },
     "metadata": {},
     "output_type": "display_data"
    },
    {
     "data": {
      "text/plain": [
       "(1, 6)"
      ]
     },
     "execution_count": 26,
     "metadata": {},
     "output_type": "execute_result"
    }
   ],
   "source": [
    "# import train data \"user ,movie, rating, time \"\n",
    "rawTest = sc.textFile(\"file:///Users/wente/GitHub/MovieRating/wente_file/ml-100k/u1.test\")\n",
    "# 用不到时间戳——弃掉--->格式转换\n",
    "testData = rawTest.map(lambda x: x.split(\"\\t\")).map(lambda x: x[:3]).map(lambda l: (int(l[0]), int(l[1]), float(l[2])))\n",
    "display(testData.first())\n",
    "# 将数据转换为\n",
    "predictData = testData.map(lambda x: x[:2])\n",
    "predictData.first()"
   ]
  },
  {
   "cell_type": "markdown",
   "metadata": {},
   "source": [
    "## 训练模型\n",
    "### 参数的设置：\n",
    "\n",
    "rank 因子个数，一般越多越好，不过内存开销也越大，合理值是 10-200。\n",
    "\n",
    "iterations 迭代次数 对 ALS 10次就可以了。\n",
    "\n",
    "lambda 正则化过程————>也就是过拟合情况，应该统计非样的测试数据 进行交叉验证调整。"
   ]
  },
  {
   "cell_type": "code",
   "execution_count": 10,
   "metadata": {
    "collapsed": false
   },
   "outputs": [
    {
     "data": {
      "text/plain": [
       "<pyspark.mllib.recommendation.MatrixFactorizationModel at 0x112038d68>"
      ]
     },
     "execution_count": 10,
     "metadata": {},
     "output_type": "execute_result"
    }
   ],
   "source": [
    "## 训练\n",
    "rank = 50\n",
    "iterations = 10\n",
    "theLambda  = 0.01\n",
    "model = ALS.train(ratings, rank, iterations, theLambda)\n",
    "model"
   ]
  },
  {
   "cell_type": "code",
   "execution_count": 11,
   "metadata": {
    "collapsed": false
   },
   "outputs": [
    {
     "data": {
      "text/plain": [
       "2.692111402220827"
      ]
     },
     "execution_count": 11,
     "metadata": {},
     "output_type": "execute_result"
    }
   ],
   "source": [
    "## predict user789 对 movie123的rating预测\n",
    "predict = model.predict(789,123)\n",
    "predict"
   ]
  },
  {
   "cell_type": "code",
   "execution_count": 13,
   "metadata": {
    "collapsed": false
   },
   "outputs": [
    {
     "data": {
      "text/plain": [
       "PythonRDD[438] at RDD at PythonRDD.scala:43"
      ]
     },
     "metadata": {},
     "output_type": "display_data"
    },
    {
     "data": {
      "text/plain": [
       "943"
      ]
     },
     "metadata": {},
     "output_type": "display_data"
    },
    {
     "data": {
      "text/plain": [
       "1650"
      ]
     },
     "metadata": {},
     "output_type": "display_data"
    }
   ],
   "source": [
    "# test\n",
    "display (model.userFeatures())\n",
    "display (model.userFeatures().count())# 6040\n",
    "display (model.productFeatures().count()) # 3706"
   ]
  },
  {
   "cell_type": "markdown",
   "metadata": {},
   "source": [
    "## 预测评分"
   ]
  },
  {
   "cell_type": "code",
   "execution_count": 27,
   "metadata": {
    "collapsed": false
   },
   "outputs": [
    {
     "data": {
      "text/plain": [
       "((316, 1084), 2.106355562777414)"
      ]
     },
     "execution_count": 27,
     "metadata": {},
     "output_type": "execute_result"
    }
   ],
   "source": [
    "# predictions \n",
    "predictions = model.predictAll(predictData).map(lambda x: ((x[0],x[1]),x[2]))\n",
    "predictions.first()"
   ]
  },
  {
   "cell_type": "markdown",
   "metadata": {},
   "source": [
    "## 模型评估\n",
    "- 均方误差(Mean Squared Error,MSE) \n",
    "常用于显示评级的情形\n",
    "- Root Mean Squared Error,RMSE\n",
    "- K值平均准确率 MAPK "
   ]
  },
  {
   "cell_type": "code",
   "execution_count": 32,
   "metadata": {
    "collapsed": false
   },
   "outputs": [
    {
     "data": {
      "text/plain": [
       "((213, 121), (5.0, 3.8524447211157113))"
      ]
     },
     "metadata": {},
     "output_type": "display_data"
    }
   ],
   "source": [
    "# 数据整理\n",
    "result = testData.map(lambda x: ((x[0],x[1]),x[2])).join(predictions)\n",
    "display (result.first())\n"
   ]
  },
  {
   "cell_type": "code",
   "execution_count": 33,
   "metadata": {
    "collapsed": false,
    "scrolled": true
   },
   "outputs": [
    {
     "name": "stdout",
     "output_type": "stream",
     "text": [
      "mse = 1.505\n",
      "rmse = 1.227\n"
     ]
    }
   ],
   "source": [
    "## MSE & RMSE\n",
    "mse = result.map(lambda v: (v[1][0] - v[1][1]) ** 2).mean()\n",
    "rmse = np.sqrt(mse)\n",
    "print(\"mse = {:.3f}\".format(mse))\n",
    "print(\"rmse = {:.3f}\".format(rmse))"
   ]
  },
  {
   "cell_type": "markdown",
   "metadata": {},
   "source": [
    "## 用户推荐——为某个用户生产评分最高的前K个电影"
   ]
  },
  {
   "cell_type": "code",
   "execution_count": 43,
   "metadata": {
    "collapsed": false
   },
   "outputs": [
    {
     "data": {
      "text/plain": [
       "[Rating(user=6, product=81, rating=5.515287852490642),\n",
       " Rating(user=6, product=727, rating=5.448419671229706),\n",
       " Rating(user=6, product=528, rating=5.227340949258899),\n",
       " Rating(user=6, product=659, rating=5.207600911445117),\n",
       " Rating(user=6, product=173, rating=5.160539449994344),\n",
       " Rating(user=6, product=519, rating=5.111068850390716),\n",
       " Rating(user=6, product=490, rating=5.110495282701655),\n",
       " Rating(user=6, product=478, rating=5.076015375473031),\n",
       " Rating(user=6, product=707, rating=5.055637538497926),\n",
       " Rating(user=6, product=489, rating=5.0514676526394044)]"
      ]
     },
     "execution_count": 43,
     "metadata": {},
     "output_type": "execute_result"
    }
   ],
   "source": [
    "# 为某个用户生产前K个推荐物品（评分最高的）\n",
    "userId = 6\n",
    "K = 10\n",
    "topKRecs = model.recommendProducts(userId, K)\n",
    "topKRecs"
   ]
  },
  {
   "cell_type": "code",
   "execution_count": 44,
   "metadata": {
    "collapsed": false
   },
   "outputs": [
    {
     "data": {
      "text/plain": [
       "101"
      ]
     },
     "execution_count": 44,
     "metadata": {},
     "output_type": "execute_result"
    }
   ],
   "source": [
    "# 查找真实数据中user798对电影的评分\n",
    "# 为了和上面的预测对比\n",
    "moviesForUser = testData.keyBy(lambda x: x[0]).lookup(userId)\n",
    "len(moviesForUser)"
   ]
  },
  {
   "cell_type": "code",
   "execution_count": 46,
   "metadata": {
    "collapsed": false,
    "scrolled": true
   },
   "outputs": [
    {
     "data": {
      "text/plain": [
       "[(6, 14, 5.0),\n",
       " (6, 59, 5.0),\n",
       " (6, 98, 5.0),\n",
       " (6, 100, 5.0),\n",
       " (6, 124, 5.0),\n",
       " (6, 131, 5.0),\n",
       " (6, 134, 5.0),\n",
       " (6, 135, 5.0),\n",
       " (6, 136, 5.0),\n",
       " (6, 197, 5.0)]"
      ]
     },
     "metadata": {},
     "output_type": "display_data"
    },
    {
     "data": {
      "text/plain": [
       "'——————下面是预测数据——————'"
      ]
     },
     "metadata": {},
     "output_type": "display_data"
    },
    {
     "data": {
      "text/plain": [
       "[Rating(user=6, product=81, rating=5.515287852490642),\n",
       " Rating(user=6, product=727, rating=5.448419671229706),\n",
       " Rating(user=6, product=528, rating=5.227340949258899),\n",
       " Rating(user=6, product=659, rating=5.207600911445117),\n",
       " Rating(user=6, product=173, rating=5.160539449994344),\n",
       " Rating(user=6, product=519, rating=5.111068850390716),\n",
       " Rating(user=6, product=490, rating=5.110495282701655),\n",
       " Rating(user=6, product=478, rating=5.076015375473031),\n",
       " Rating(user=6, product=707, rating=5.055637538497926),\n",
       " Rating(user=6, product=489, rating=5.0514676526394044)]"
      ]
     },
     "metadata": {},
     "output_type": "display_data"
    }
   ],
   "source": [
    "# 对比上面的预测值topKRecs ——差别有点大啊\n",
    "# 真实的评分最高的前K个物品（电影）\n",
    "display (sorted(moviesForUser, key=lambda x:x[2], reverse=True)[:K])\n",
    "display  (\"——————下面是预测数据——————\")\n",
    "display  (topKRecs)"
   ]
  },
  {
   "cell_type": "markdown",
   "metadata": {},
   "source": [
    "## 物品推荐——计算与某个物品相似度最高的K个物品"
   ]
  },
  {
   "cell_type": "code",
   "execution_count": 47,
   "metadata": {
    "collapsed": true
   },
   "outputs": [],
   "source": [
    "# func余弦相似度计算\n",
    "\n",
    "def cosineSimilarity (vec1, vec2):\n",
    "    import numpy as np\n",
    "    from numpy import linalg as la\n",
    "    \n",
    "    inA = np.mat(vec1) \n",
    "    inB = np.mat(vec2)\n",
    "    num = float(inA * inB.T) #若为行向量: A * B.T\n",
    "    donom = la.norm(inA) * la.norm(inB) ##余弦值 \n",
    "    return 0.5+ 0.5*(num / donom) # 归一化\n",
    "    #关于归一化：因为余弦值的范围是 [-1,+1] ，相似度计算时一般需要把值归一化到 [0,1]\n"
   ]
  },
  {
   "cell_type": "code",
   "execution_count": 48,
   "metadata": {
    "collapsed": false
   },
   "outputs": [
    {
     "data": {
      "text/plain": [
       "matrix([[ 0.940781  , -0.58813453,  0.42437467, -1.71968317, -0.85785496,\n",
       "         -0.73507148,  0.1358735 , -0.41329709, -0.08961392, -0.22453223,\n",
       "         -0.22866897,  0.36925006,  0.52131379,  0.40339893, -1.16111124,\n",
       "         -0.06876885,  0.7550447 ,  1.34409595,  0.41636825, -0.75265735,\n",
       "         -0.17132822,  1.04754162,  0.54877031, -1.19848192,  1.51626456,\n",
       "          1.79317737, -0.63476217, -0.50708252, -1.73963869,  0.25465798,\n",
       "          0.50217831, -0.39770052,  0.39043236,  0.09335203,  0.43171662,\n",
       "         -0.70431143,  1.78544664, -0.10555007,  0.15560056, -0.15454867,\n",
       "         -0.83584517, -0.65195519,  1.92159963,  0.4936581 ,  1.082726  ,\n",
       "          0.13944294, -0.23512444, -1.02493489,  1.20973265, -0.39064667]])"
      ]
     },
     "metadata": {},
     "output_type": "display_data"
    },
    {
     "data": {
      "text/plain": [
       "0.99999999999999989"
      ]
     },
     "execution_count": 48,
     "metadata": {},
     "output_type": "execute_result"
    }
   ],
   "source": [
    "# 物品100对应的因子\n",
    "itemId = 100\n",
    "itemFactor = model.productFeatures().lookup(itemId)\n",
    "itemFactor = np.mat(itemFactor)\n",
    "display(itemFactor)\n",
    "#test物品567对应的因子和自己的余弦相似度计算 ——应该为1\n",
    "cosineSimilarity(itemFactor,itemFactor)"
   ]
  },
  {
   "cell_type": "code",
   "execution_count": 49,
   "metadata": {
    "collapsed": false
   },
   "outputs": [
    {
     "data": {
      "text/plain": [
       "[(100, 0.99999999999999989),\n",
       " (223, 0.94453409281378875),\n",
       " (191, 0.94235086677379964),\n",
       " (963, 0.94204077112197449),\n",
       " (30, 0.94129789674558628)]"
      ]
     },
     "execution_count": 49,
     "metadata": {},
     "output_type": "execute_result"
    }
   ],
   "source": [
    "# 计算100 与其他的物品的余弦相似度\n",
    "sims = model.productFeatures().map(lambda x: (x[0],cosineSimilarity(x[1], itemFactor))).collect()\n",
    "simsSorted = sorted(sims, key=lambda x:x[1], reverse=True)\n",
    "simsSorted[:5]"
   ]
  },
  {
   "cell_type": "code",
   "execution_count": null,
   "metadata": {
    "collapsed": true
   },
   "outputs": [],
   "source": []
  }
 ],
 "metadata": {
  "kernelspec": {
   "display_name": "Python 3",
   "language": "python",
   "name": "python3"
  },
  "language_info": {
   "codemirror_mode": {
    "name": "ipython",
    "version": 3
   },
   "file_extension": ".py",
   "mimetype": "text/x-python",
   "name": "python",
   "nbconvert_exporter": "python",
   "pygments_lexer": "ipython3",
   "version": "3.5.1"
  }
 },
 "nbformat": 4,
 "nbformat_minor": 0
}
