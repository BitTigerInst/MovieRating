{
 "cells": [
  {
   "cell_type": "markdown",
   "metadata": {},
   "source": [
    "## 库导入"
   ]
  },
  {
   "cell_type": "code",
   "execution_count": 119,
   "metadata": {
    "collapsed": false
   },
   "outputs": [],
   "source": [
    "from IPython.core.display import display\n",
    "import numpy as np\n",
    "from pyspark.mllib.recommendation import ALS, MatrixFactorizationModel, Rating"
   ]
  },
  {
   "cell_type": "markdown",
   "metadata": {},
   "source": [
    "## 评级数据导入"
   ]
  },
  {
   "cell_type": "code",
   "execution_count": 46,
   "metadata": {
    "collapsed": false
   },
   "outputs": [
    {
     "data": {
      "text/plain": [
       "['196\\t242\\t3\\t881250949',\n",
       " '186\\t302\\t3\\t891717742',\n",
       " '22\\t377\\t1\\t878887116',\n",
       " '244\\t51\\t2\\t880606923',\n",
       " '166\\t346\\t1\\t886397596']"
      ]
     },
     "execution_count": 46,
     "metadata": {},
     "output_type": "execute_result"
    }
   ],
   "source": [
    "# 导入原始数据 \"user ,movie, rating, time \"\n",
    "rawData = sc.textFile(\"file:///Users/wente/SparkTest/ml-100k/u.data\")\n",
    "rawData.take(5)                "
   ]
  },
  {
   "cell_type": "code",
   "execution_count": 31,
   "metadata": {
    "collapsed": false
   },
   "outputs": [
    {
     "data": {
      "text/plain": [
       "['196', '242', '3']"
      ]
     },
     "execution_count": 31,
     "metadata": {},
     "output_type": "execute_result"
    }
   ],
   "source": [
    "# 用不到时间戳——弃掉\n",
    "rawRatings = rawData.map(lambda x: x.split(\"\\t\")).map(lambda x: x[:3])\n",
    "rawRatings.first()"
   ]
  },
  {
   "cell_type": "code",
   "execution_count": 33,
   "metadata": {
    "collapsed": false
   },
   "outputs": [
    {
     "data": {
      "text/plain": [
       "Rating(user=196, product=242, rating=3.0)"
      ]
     },
     "execution_count": 33,
     "metadata": {},
     "output_type": "execute_result"
    }
   ],
   "source": [
    "# 将数据转换为Rating对象\n",
    "ratings = rawRatings.map(lambda l: Rating(int(l[0]), int(l[1]), float(l[2])))\n",
    "ratings.first()"
   ]
  },
  {
   "cell_type": "markdown",
   "metadata": {},
   "source": [
    "## 导入电影数据"
   ]
  },
  {
   "cell_type": "code",
   "execution_count": 131,
   "metadata": {
    "collapsed": false
   },
   "outputs": [
    {
     "data": {
      "text/plain": [
       "['1|Toy Story (1995)|01-Jan-1995||http://us.imdb.com/M/title-exact?Toy%20Story%20(1995)|0|0|0|1|1|1|0|0|0|0|0|0|0|0|0|0|0|0|0',\n",
       " '2|GoldenEye (1995)|01-Jan-1995||http://us.imdb.com/M/title-exact?GoldenEye%20(1995)|0|1|1|0|0|0|0|0|0|0|0|0|0|0|0|0|1|0|0']"
      ]
     },
     "execution_count": 131,
     "metadata": {},
     "output_type": "execute_result"
    }
   ],
   "source": [
    "# 导入电影数据 ——\n",
    "rawMovies = sc.textFile(\"file:///Users/wente/SparkTest/ml-100k/u.item\")\n",
    "rawMovies.take(2)"
   ]
  },
  {
   "cell_type": "code",
   "execution_count": 52,
   "metadata": {
    "collapsed": false
   },
   "outputs": [
    {
     "data": {
      "text/plain": [
       "[(1, 'Toy Story'),\n",
       " (2, 'GoldenEye'),\n",
       " (3, 'Four Rooms'),\n",
       " (4, 'Get Shorty'),\n",
       " (5, 'Copycat')]"
      ]
     },
     "execution_count": 52,
     "metadata": {},
     "output_type": "execute_result"
    }
   ],
   "source": [
    "# 处理电影数据——只保留“序号+名字”；--> 分割；-->去掉（年份）这样的东西\n",
    "def extract_title(raw):\n",
    "    import re\n",
    "    grps = re.search(\"\\((\\w+)\\)\",raw)\n",
    "    # print (grps)\n",
    "    if grps:\n",
    "        return raw[:grps.start()].strip()\n",
    "    else :\n",
    "        return raw\n",
    "    \n",
    "movies = rawMovies.map(lambda x: x.split(\"|\")).map(lambda x: (int(x[0]), extract_title(x[1])))\n",
    "movies.take(5)"
   ]
  },
  {
   "cell_type": "code",
   "execution_count": 136,
   "metadata": {
    "collapsed": false
   },
   "outputs": [
    {
     "data": {
      "text/plain": [
       "'Frighteners, The'"
      ]
     },
     "metadata": {},
     "output_type": "display_data"
    }
   ],
   "source": [
    "# 转换成map\n",
    "titles = movies.collectAsMap()\n",
    "display(titles[123])"
   ]
  },
  {
   "cell_type": "markdown",
   "metadata": {},
   "source": [
    "## 训练模型"
   ]
  },
  {
   "cell_type": "code",
   "execution_count": 41,
   "metadata": {
    "collapsed": false
   },
   "outputs": [
    {
     "data": {
      "text/plain": [
       "<pyspark.mllib.recommendation.MatrixFactorizationModel at 0x11205bbe0>"
      ]
     },
     "execution_count": 41,
     "metadata": {},
     "output_type": "execute_result"
    }
   ],
   "source": [
    "## 训练\n",
    "model = ALS.train(ratings, 50, 10, 0.01)\n",
    "model"
   ]
  },
  {
   "cell_type": "code",
   "execution_count": 42,
   "metadata": {
    "collapsed": false
   },
   "outputs": [
    {
     "data": {
      "text/plain": [
       "3.1257644207381152"
      ]
     },
     "execution_count": 42,
     "metadata": {},
     "output_type": "execute_result"
    }
   ],
   "source": [
    "## predict user789 对 movie123的rating预测\n",
    "predict = model.predict(789,123)\n",
    "predict"
   ]
  },
  {
   "cell_type": "markdown",
   "metadata": {},
   "source": [
    "## 用户推荐——为某个用户生产评分最高的前K个电影"
   ]
  },
  {
   "cell_type": "code",
   "execution_count": 45,
   "metadata": {
    "collapsed": false
   },
   "outputs": [
    {
     "data": {
      "text/plain": [
       "[Rating(user=789, product=179, rating=6.219926182505045),\n",
       " Rating(user=789, product=642, rating=5.671590135799223),\n",
       " Rating(user=789, product=502, rating=5.564187725338691),\n",
       " Rating(user=789, product=573, rating=5.41679249716231),\n",
       " Rating(user=789, product=521, rating=5.404343444980412),\n",
       " Rating(user=789, product=182, rating=5.211604324881899),\n",
       " Rating(user=789, product=962, rating=5.114975343515041),\n",
       " Rating(user=789, product=183, rating=5.112916949918486),\n",
       " Rating(user=789, product=1019, rating=5.112229193436341),\n",
       " Rating(user=789, product=32, rating=5.1004955779490695)]"
      ]
     },
     "execution_count": 45,
     "metadata": {},
     "output_type": "execute_result"
    }
   ],
   "source": [
    "# 为某个用户生产前K个推荐物品（评分最高的）\n",
    "userId = 789\n",
    "K = 10\n",
    "topKRecs = model.recommendProducts(userId, K)\n",
    "topKRecs"
   ]
  },
  {
   "cell_type": "code",
   "execution_count": 58,
   "metadata": {
    "collapsed": false
   },
   "outputs": [
    {
     "data": {
      "text/plain": [
       "33"
      ]
     },
     "execution_count": 58,
     "metadata": {},
     "output_type": "execute_result"
    }
   ],
   "source": [
    "# 查找真实数据中user798对电影的评分\n",
    "# 为了和上面的预测对比\n",
    "moviesForUser = ratings.keyBy(lambda x: x.user).lookup(789)\n",
    "len(moviesForUser)"
   ]
  },
  {
   "cell_type": "code",
   "execution_count": 120,
   "metadata": {
    "collapsed": false,
    "scrolled": true
   },
   "outputs": [
    {
     "data": {
      "text/plain": [
       "[Rating(user=789, product=127, rating=5.0),\n",
       " Rating(user=789, product=475, rating=5.0),\n",
       " Rating(user=789, product=9, rating=5.0),\n",
       " Rating(user=789, product=50, rating=5.0),\n",
       " Rating(user=789, product=150, rating=5.0),\n",
       " Rating(user=789, product=276, rating=5.0),\n",
       " Rating(user=789, product=129, rating=5.0),\n",
       " Rating(user=789, product=100, rating=5.0),\n",
       " Rating(user=789, product=741, rating=5.0),\n",
       " Rating(user=789, product=1012, rating=4.0)]"
      ]
     },
     "metadata": {},
     "output_type": "display_data"
    },
    {
     "data": {
      "text/plain": [
       "'——————下面是预测数据——————'"
      ]
     },
     "metadata": {},
     "output_type": "display_data"
    },
    {
     "data": {
      "text/plain": [
       "[Rating(user=789, product=179, rating=6.219926182505045),\n",
       " Rating(user=789, product=642, rating=5.671590135799223),\n",
       " Rating(user=789, product=502, rating=5.564187725338691),\n",
       " Rating(user=789, product=573, rating=5.41679249716231),\n",
       " Rating(user=789, product=521, rating=5.404343444980412),\n",
       " Rating(user=789, product=182, rating=5.211604324881899),\n",
       " Rating(user=789, product=962, rating=5.114975343515041),\n",
       " Rating(user=789, product=183, rating=5.112916949918486),\n",
       " Rating(user=789, product=1019, rating=5.112229193436341),\n",
       " Rating(user=789, product=32, rating=5.1004955779490695)]"
      ]
     },
     "metadata": {},
     "output_type": "display_data"
    }
   ],
   "source": [
    "# 对比上面的预测值topKRecs ——差别有点大啊\n",
    "# 真实的评分最高的前K个物品（电影）\n",
    "display (sorted(moviesForUser, key=lambda x:x.rating, reverse=True)[:K])\n",
    "display  (\"——————下面是预测数据——————\")\n",
    "display  (topKRecs)"
   ]
  },
  {
   "cell_type": "markdown",
   "metadata": {},
   "source": [
    "## 物品推荐——计算与某个物品相似度最高的K个物品"
   ]
  },
  {
   "cell_type": "code",
   "execution_count": 132,
   "metadata": {
    "collapsed": true
   },
   "outputs": [],
   "source": [
    "# func余弦相似度计算\n",
    "\n",
    "def cosineSimilarity (vec1, vec2):\n",
    "    import numpy as np\n",
    "    from numpy import linalg as la\n",
    "    \n",
    "    inA = np.mat(vec1) \n",
    "    inB = np.mat(vec2)\n",
    "    num = float(inA * inB.T) #若为行向量: A * B.T\n",
    "    donom = la.norm(inA) * la.norm(inB) ##余弦值 \n",
    "    return 0.5+ 0.5*(num / donom) # 归一化\n",
    "    #关于归一化：因为余弦值的范围是 [-1,+1] ，相似度计算时一般需要把值归一化到 [0,1]\n"
   ]
  },
  {
   "cell_type": "code",
   "execution_count": 122,
   "metadata": {
    "collapsed": false
   },
   "outputs": [
    {
     "data": {
      "text/plain": [
       "matrix([[ 0.30001232, -0.82738632,  0.04953906,  0.11014523, -0.7215237 ,\n",
       "         -1.16773701, -0.06502534, -0.59308511,  0.96469522,  0.3042264 ,\n",
       "         -1.0616982 , -0.24189724,  0.19097036,  0.99766499,  1.03015256,\n",
       "          0.82253695,  0.43349966,  0.23172313, -0.29670504,  0.68732196,\n",
       "         -0.05919091,  0.90864134,  0.19700296, -0.33594021, -1.31641686,\n",
       "          0.92831606,  0.53180593, -0.37785533,  0.07913431, -0.38576484,\n",
       "         -0.34545758,  0.14826232, -0.41177404, -0.18283407, -0.00584139,\n",
       "         -0.50690824, -0.00588502, -0.78301221, -0.4702107 , -0.14911231,\n",
       "          0.34510347, -0.09306512,  0.05045496,  0.45057371,  1.23036456,\n",
       "         -0.89369899, -0.380521  ,  0.0276823 ,  0.43097624,  0.31901327]])"
      ]
     },
     "metadata": {},
     "output_type": "display_data"
    },
    {
     "data": {
      "text/plain": [
       "1.0"
      ]
     },
     "execution_count": 122,
     "metadata": {},
     "output_type": "execute_result"
    }
   ],
   "source": [
    "# 物品567对应的因子\n",
    "itemId = 567\n",
    "itemFactor = model.productFeatures().lookup(itemId)\n",
    "itemFactor = np.mat(itemFactor)\n",
    "display(itemFactor)\n",
    "#test物品567对应的因子和自己的余弦相似度计算 ——应该为1\n",
    "cosineSimilarity(itemFactor,itemFactor)"
   ]
  },
  {
   "cell_type": "code",
   "execution_count": 123,
   "metadata": {
    "collapsed": false
   },
   "outputs": [
    {
     "data": {
      "text/plain": [
       "[(567, 1.0),\n",
       " (413, 0.86113899935782356),\n",
       " (899, 0.85484505016523227),\n",
       " (219, 0.84834957136326716),\n",
       " (1527, 0.844293892019359)]"
      ]
     },
     "execution_count": 123,
     "metadata": {},
     "output_type": "execute_result"
    }
   ],
   "source": [
    "# 计算735 与其他的物品的余弦相似度\n",
    "sims = model.productFeatures().map(lambda x: (x[0],cosineSimilarity(x[1], itemFactor))).collect()\n",
    "simsSorted = sorted(sims, key=lambda x:x[1], reverse=True)\n",
    "simsSorted[:5]"
   ]
  },
  {
   "cell_type": "code",
   "execution_count": 114,
   "metadata": {
    "collapsed": false
   },
   "outputs": [
    {
     "data": {
      "text/plain": [
       "\"Wes Craven's New Nightmare\""
      ]
     },
     "execution_count": 114,
     "metadata": {},
     "output_type": "execute_result"
    }
   ],
   "source": [
    "# test编号对应的名字\n",
    "titles[itemId]"
   ]
  },
  {
   "cell_type": "code",
   "execution_count": 128,
   "metadata": {
    "collapsed": false,
    "scrolled": true
   },
   "outputs": [
    {
     "data": {
      "text/plain": [
       "[(\"Wes Craven's New Nightmare\", 1.0),\n",
       " ('Tales from the Crypt Presents: Bordello of Blood', 0.86113899935782356),\n",
       " ('Winter Guest, The', 0.85484505016523227),\n",
       " ('Nightmare on Elm Street, A', 0.84834957136326716),\n",
       " ('Senseless', 0.844293892019359)]"
      ]
     },
     "execution_count": 128,
     "metadata": {},
     "output_type": "execute_result"
    }
   ],
   "source": [
    "# 编号修改为名字\n",
    "simsWithName = list(map((lambda x : (titles[x[0]],x[1])),simsSorted))\n",
    "simsWithName[:5]"
   ]
  },
  {
   "cell_type": "code",
   "execution_count": null,
   "metadata": {
    "collapsed": true
   },
   "outputs": [],
   "source": []
  }
 ],
 "metadata": {
  "kernelspec": {
   "display_name": "Python 3",
   "language": "python",
   "name": "python3"
  },
  "language_info": {
   "codemirror_mode": {
    "name": "ipython",
    "version": 3
   },
   "file_extension": ".py",
   "mimetype": "text/x-python",
   "name": "python",
   "nbconvert_exporter": "python",
   "pygments_lexer": "ipython3",
   "version": "3.5.1"
  }
 },
 "nbformat": 4,
 "nbformat_minor": 0
}
